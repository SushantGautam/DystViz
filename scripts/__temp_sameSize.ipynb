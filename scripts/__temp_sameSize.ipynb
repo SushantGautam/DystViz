{
 "cells": [
  {
   "cell_type": "code",
   "execution_count": 1,
   "metadata": {},
   "outputs": [
    {
     "ename": "FileNotFoundError",
     "evalue": "[WinError 3] The system cannot find the path specified: 'D:\\\\DystoniaCoalition\\\\raw_toprocess\\\\'",
     "output_type": "error",
     "traceback": [
      "\u001b[1;31m---------------------------------------------------------------------------\u001b[0m",
      "\u001b[1;31mFileNotFoundError\u001b[0m                         Traceback (most recent call last)",
      "\u001b[1;32m~\\AppData\\Local\\Temp\\ipykernel_468\\1865421584.py\u001b[0m in \u001b[0;36m<module>\u001b[1;34m\u001b[0m\n\u001b[0;32m     21\u001b[0m df = pd.DataFrame(columns=['NAME', 'SIZE_MB', 'HEIGHT',\n\u001b[0;32m     22\u001b[0m                   'WIDTH', 'FPS', 'FRAME_COUNT', 'duration', 'PID'])\n\u001b[1;32m---> 23\u001b[1;33m \u001b[0mvideos\u001b[0m \u001b[1;33m=\u001b[0m \u001b[0mos\u001b[0m\u001b[1;33m.\u001b[0m\u001b[0mlistdir\u001b[0m\u001b[1;33m(\u001b[0m\u001b[0mvideoDirectory\u001b[0m\u001b[1;33m)\u001b[0m\u001b[1;33m\u001b[0m\u001b[1;33m\u001b[0m\u001b[0m\n\u001b[0m\u001b[0;32m     24\u001b[0m \u001b[1;32mfor\u001b[0m \u001b[0midx\u001b[0m\u001b[1;33m,\u001b[0m \u001b[0mfilex\u001b[0m \u001b[1;32min\u001b[0m \u001b[0menumerate\u001b[0m\u001b[1;33m(\u001b[0m\u001b[0mvideos\u001b[0m\u001b[1;33m)\u001b[0m\u001b[1;33m:\u001b[0m\u001b[1;33m\u001b[0m\u001b[1;33m\u001b[0m\u001b[0m\n\u001b[0;32m     25\u001b[0m     \u001b[1;31m# print(media_info.tracks[0].duration)\u001b[0m\u001b[1;33m\u001b[0m\u001b[1;33m\u001b[0m\u001b[0m\n",
      "\u001b[1;31mFileNotFoundError\u001b[0m: [WinError 3] The system cannot find the path specified: 'D:\\\\DystoniaCoalition\\\\raw_toprocess\\\\'"
     ]
    }
   ],
   "source": [
    "import requests\n",
    "import shutil\n",
    "import os\n",
    "import cv2\n",
    "import subprocess\n",
    "import datetime\n",
    "import re\n",
    "import glob\n",
    "import time\n",
    "import pandas as pd\n",
    "import numpy as np\n",
    "from datetime import datetime\n",
    "import re\n",
    "\n",
    "videoDirectory = \"c\"\n",
    "# profilingOutputDirectory = \"D:\\DystoniaCoalition\\processed\\\\\"\n",
    "\n",
    "\n",
    "start = datetime.now()  # for time logging\n",
    "\n",
    "df = pd.DataFrame(columns=['NAME', 'SIZE_MB', 'HEIGHT',\n",
    "                  'WIDTH', 'FPS', 'FRAME_COUNT', 'duration', 'PID'])\n",
    "videos = os.listdir(videoDirectory)\n",
    "for idx, filex in enumerate(videos):\n",
    "    # print(media_info.tracks[0].duration)\n",
    "    row = [None] * df.columns.size\n",
    "    vid = cv2.VideoCapture(os.path.join(videoDirectory, filex))\n",
    "    row[0] = filex\n",
    "    row[1] = os.path.getsize(os.path.join(videoDirectory, filex)) * 0.000001\n",
    "    row[2] = vid.get(cv2.CAP_PROP_FRAME_HEIGHT)\n",
    "    row[3] = vid.get(cv2.CAP_PROP_FRAME_WIDTH)\n",
    "    row[4] = vid.get(cv2.CAP_PROP_FPS)\n",
    "    row[5] = vid.get(cv2.CAP_PROP_FRAME_COUNT)\n",
    "    if cv2.CAP_PROP_FRAME_COUNT and vid.get(cv2.CAP_PROP_FPS):\n",
    "        row[6] = vid.get(cv2.CAP_PROP_FRAME_COUNT) / vid.get(cv2.CAP_PROP_FPS)\n",
    "    underSplit = filex.lower().split('_')\n",
    "    if (len(underSplit) > 1):\n",
    "        row[7] = int(underSplit[0].split('dys')[1])\n",
    "    else:\n",
    "        row[7] = int(filex.lower().split(' ')[0].split('dys')[1])\n",
    "    df.loc[len(df)] = row\n",
    "# df.to_csv(profilingOutputDirectory+\"videoProfile.csv\", index=False)\n"
   ]
  },
  {
   "cell_type": "code",
   "execution_count": null,
   "metadata": {},
   "outputs": [],
   "source": [
    "list(df[df['HEIGHT'] != 360].PID)\n"
   ]
  },
  {
   "cell_type": "code",
   "execution_count": null,
   "metadata": {},
   "outputs": [],
   "source": [
    "pids = [1001, 1002, 1003, 1004, 1007, 1009, 1018, 1074, 1078, 1128, 1161, 1187, 1199, 1214, 1232, 1242, 1266, 1269, 1277, 1280, 1281, 1285, 1286, 1344, 1367, 1383, 1412, 1413, 1452, 1464, 1519, 1522, 1553, 1555, 1561, 1563, 1572, 1605, 1990, 201, 208, 2105, 2129, 2150, 2205, 2206, 2278, 233, 2378, 2432, 2473, 2482, 2486, 2497, 2498, 2499, 2510, 2538, 2539, 2557, 2567, 2570, 2585, 2591, 2605, 263, 2643, 2723, 2850, 2852, 2858, 2890, 2899, 2934, 299, 3084, 311, 3135, 31, 3205, 321, 322, 327, 3281, 342, 348, 355, 363, 36, 414, 41, 46, 474, 479, 48, 504, 560, 614, 653, 675, 676, 682, 698, 717, 738, 929, 940, 950, 993] "
   ]
  },
  {
   "cell_type": "code",
   "execution_count": null,
   "metadata": {},
   "outputs": [
    {
     "data": {
      "text/plain": [
       "['DYS1001_20170222.mp4',\n",
       " 'DYS1002_20121219.mp4',\n",
       " 'DYS1003_20170322.mp4',\n",
       " 'DYS1004_20130109.mp4',\n",
       " 'DYS1007_20121213.mp4',\n",
       " 'DYS1009_20121212.mp4',\n",
       " 'DYS1018_20121219.mp4',\n",
       " 'DYS1074_20130206.mp4',\n",
       " 'DYS1078_20130205.mp4',\n",
       " 'DYS1128_20130220.mp4',\n",
       " 'DYS1161_20200127.mp4',\n",
       " 'DYS1187_20130422.mp4',\n",
       " 'DYS1199_20130612.mp4',\n",
       " 'DYS1214_20130605.mp4',\n",
       " 'DYS1232_20130515.mp4',\n",
       " 'DYS1242_20160519.mp4',\n",
       " 'DYS1266_20130610.mp4',\n",
       " 'DYS1269_20130612.mp4',\n",
       " 'DYS1277_20130617.mp4',\n",
       " 'DYS1280_20130225.mp4',\n",
       " 'DYS1281_20130729.mp4',\n",
       " 'DYS1285_20130325.mp4',\n",
       " 'DYS1286_20150713.mp4',\n",
       " 'DYS1344_20130731.mp4',\n",
       " 'DYS1367_20130820.mp4',\n",
       " 'DYS1383_20130826.mp4',\n",
       " 'DYS1412_20130911.mp4',\n",
       " 'DYS1413_20130911.mp4',\n",
       " 'DYS1452_20131009.mp4',\n",
       " 'DYS1464_20140116.mp4',\n",
       " 'DYS1519_20131104.mp4',\n",
       " 'DYS1522_20131105.mp4',\n",
       " 'DYS1553_20131120.mp4',\n",
       " 'DYS1555_20131122.mp4',\n",
       " 'DYS1561_20131127.mp4',\n",
       " 'DYS1563_20131204.mp4',\n",
       " 'DYS1572_20161214.mp4',\n",
       " 'DYS1605_20140108.mp4',\n",
       " 'DYS1990_20141001.mp4',\n",
       " 'DYS201_20190717.mp4',\n",
       " 'DYS208_20160330.mp4',\n",
       " 'DYS2105_20160513.mp4',\n",
       " 'DYS2129_20150114.mp4',\n",
       " 'DYS2150_20150218.mp4',\n",
       " 'DYS2205_20150225.mp4',\n",
       " 'DYS2206_20150226.mp4',\n",
       " 'DYS2278_20150428.mp4',\n",
       " 'DYS233_20160120.mp4',\n",
       " 'DYS2378_20151021.mp4',\n",
       " 'DYS2432_20151125.mp4',\n",
       " 'DYS2473_20151210.mp4',\n",
       " 'DYS2482_20151217.mp4',\n",
       " 'DYS2486_20160210.mp4',\n",
       " 'DYS2497_20160112.mp4',\n",
       " 'DYS2498_20160111.mp4',\n",
       " 'DYS2499_20160111.mp4',\n",
       " 'DYS2510_20160211.mp4',\n",
       " 'DYS2538_20160316.mp4',\n",
       " 'DYS2539_20160406.mp4',\n",
       " 'DYS2557_20160307.mp4',\n",
       " 'DYS2567_20160322.mp4',\n",
       " 'DYS2570_20160328.mp4',\n",
       " 'DYS2585_20160520.mp4',\n",
       " 'DYS2591_20160516.mp4',\n",
       " 'DYS2605_20160615.mp4',\n",
       " 'DYS263_20111215.mp4',\n",
       " 'DYS2643_20160811.mp4',\n",
       " 'DYS2723_20170104.mp4',\n",
       " 'DYS2850_20170315.mp4',\n",
       " 'DYS2852_20170315.mp4',\n",
       " 'DYS2858_20170322.mp4',\n",
       " 'DYS2890_20170420.mp4',\n",
       " 'DYS2899_20170419.mp4',\n",
       " 'DYS2934_20170531.mp4',\n",
       " 'DYS299_20170203.mp4',\n",
       " 'DYS3084_20170912.mp4',\n",
       " 'DYS311_20120126.mp4',\n",
       " 'DYS3135_20171005.mp4',\n",
       " 'DYS31_20110415.mp4',\n",
       " 'DYS3205_20171201.mp4',\n",
       " 'DYS321_20120112.mp4',\n",
       " 'DYS322_20120119.mp4',\n",
       " 'DYS327_20120208.mp4',\n",
       " 'DYS3281_20180329.mp4',\n",
       " 'DYS342_20160629.mp4',\n",
       " 'DYS348_20121011.mp4',\n",
       " 'DYS355_20120229.mp4',\n",
       " 'DYS363_20120307.mp4',\n",
       " 'DYS36_20170510.mp4',\n",
       " 'DYS414_20120328.mp4',\n",
       " 'DYS41_20170412.mp4',\n",
       " 'DYS46_20160629.mp4',\n",
       " 'DYS474_20120418.mp4',\n",
       " 'DYS479_20120419.mp4',\n",
       " 'DYS48_20120808.mp4',\n",
       " 'DYS504_20120508.mp4',\n",
       " 'DYS560_20120524.mp4',\n",
       " 'DYS614_20160727.mp4',\n",
       " 'DYS653_20130910.mp4',\n",
       " 'DYS675_20130718.mp4',\n",
       " 'DYS676_2012717.mp4',\n",
       " 'DYS682_20120801.mp4',\n",
       " 'DYS698_20120720.mp4',\n",
       " 'DYS717_20120801.mp4',\n",
       " 'DYS738_20130109.mp4',\n",
       " 'DYS929_20170925.mp4',\n",
       " 'DYS940_20161029.mp4',\n",
       " 'DYS950_20120822.mp4',\n",
       " 'DYS993_20130102.mp4']"
      ]
     },
     "execution_count": 5,
     "metadata": {},
     "output_type": "execute_result"
    }
   ],
   "source": [
    "vfiles = []\n",
    "for each in pids:\n",
    "    \"DYS\" + str(each)+ \"_\"\n",
    "    prefixed = [filename for filename in videos if filename.startswith(\"DYS\" + str(each)+ \"_\")]\n",
    "    if prefixed:\n",
    "        pass\n",
    "    else:\n",
    "        prefixed = [filename for filename in videos if filename.startswith(\"DYS\" + str(each)+ \" \")]\n",
    "    vfiles.append(prefixed[0])\n",
    "vfiles"
   ]
  },
  {
   "cell_type": "code",
   "execution_count": 19,
   "metadata": {},
   "outputs": [],
   "source": [
    "import os\n",
    "ids = []\n",
    "for e in os.listdir('C:\\DystoniaCoalition\\OpenPoseFullFrame'):\n",
    "    try:\n",
    "        id =e.split('_')[0].replace(\"DYS\", \"\")\n",
    "    except:\n",
    "        id = e.split(' ')[0].replace(\"DYS\", \"\")\n",
    "    ids.append(int(id))\n",
    "    \n",
    "import pandas as pd\n",
    "df = pd.read_csv('D:\\DystoniaCoalition\\processed\\ExportNeckCSV.csv')\n",
    "ids_new = list(df.pid)"
   ]
  },
  {
   "cell_type": "code",
   "execution_count": 21,
   "metadata": {},
   "outputs": [
    {
     "data": {
      "text/plain": [
       "['DYS_36']"
      ]
     },
     "execution_count": 21,
     "metadata": {},
     "output_type": "execute_result"
    }
   ],
   "source": [
    "su = list(set(ids_new) - set(ids))\n",
    "[\"DYS_\" + str(each) for each in su]"
   ]
  },
  {
   "cell_type": "code",
   "execution_count": null,
   "metadata": {},
   "outputs": [],
   "source": [
    "plt.rcParams[\"figure.figsize\"] = (20,3)\n",
    "plt.hist(size,  alpha=0.5)\n",
    "plt.title(\"Histogram of number of frames in each video\")\n",
    "plt.xlabel(\"Number of frames\")\n",
    "plt.ylabel(\"Frequency\")"
   ]
  }
 ],
 "metadata": {
  "interpreter": {
   "hash": "bb0cbac54d6cdbae60be2e6d83bf46fb7f752717ca2d60c579508701c83844df"
  },
  "kernelspec": {
   "display_name": "Python 3.10.0 64-bit",
   "language": "python",
   "name": "python3"
  },
  "language_info": {
   "codemirror_mode": {
    "name": "ipython",
    "version": 3
   },
   "file_extension": ".py",
   "mimetype": "text/x-python",
   "name": "python",
   "nbconvert_exporter": "python",
   "pygments_lexer": "ipython3",
   "version": "3.10.0"
  },
  "orig_nbformat": 4
 },
 "nbformat": 4,
 "nbformat_minor": 2
}
